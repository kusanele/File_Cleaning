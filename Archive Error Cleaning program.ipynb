{
 "cells": [
  {
   "cell_type": "code",
   "execution_count": 33,
   "id": "401d5674",
   "metadata": {
    "scrolled": true
   },
   "outputs": [],
   "source": [
    "import os\n",
    "\n",
    "def extend_filename(directory):\n",
    "    # List all files in the directory\n",
    "    files = os.listdir(directory)\n",
    "\n",
    "    # Iterate through each file\n",
    "    for filename in files:\n",
    "        # Check if the filename is not a directory\n",
    "        if not os.path.isdir(os.path.join(directory, filename)):\n",
    "            # Split the filename and its extension\n",
    "            name, extension = os.path.splitext(filename)\n",
    "            \n",
    "            # If the length of the filename is less than 12 characters, extend it\n",
    "            if len(name) < 8:\n",
    "                name = name.ljust(8, 'X')  # Extend to 8 characters with 'X' padding\n",
    "                \n",
    "            # Remove any underscores from the filename\n",
    "            name = name.replace('_', '')\n",
    "\n",
    "            # Remove any Period from the filename\n",
    "            name = name.replace('.', '')\n",
    "            \n",
    "             # Truncate the filename if it exceeds 8 characters before the dot\n",
    "            name = name[:8]\n",
    "            \n",
    "                 \n",
    "            # Remove any Z from the file extension and replace it with X\n",
    "            extension = extension.replace('Z', 'X')\n",
    "            \n",
    "            # Remove any B from the file extension and replace it with X\n",
    "            extension = extension.replace('B', 'X')\n",
    "\n",
    "\n",
    "            # If the length of the extension is less than 3 characters, extend it\n",
    "            if len(extension) < 4:\n",
    "                extension = extension.ljust(4, 'X')  # Extend to 3 characters with 'X' padding\n",
    "                \n",
    "           \n",
    "            # Truncate the extension if it exceeds 3 characters after the dot\n",
    "            extension = extension[:4]\n",
    "            \n",
    "            # Concatenate the extended filename and extension\n",
    "            new_filename = name[:8] + '.' + extension[1:4]\n",
    "            \n",
    "            # Rename the file\n",
    "            os.rename(os.path.join(directory, filename), os.path.join(directory, new_filename))\n",
    "\n",
    "# Replace 'directory_path' with the path of the directory containing the files\n",
    "directory_path = r'C:\\Users\\MarbleKunaneleMpofu\\Downloads\\ArchiveErrors\\Cleaned'\n",
    "extend_filename(directory_path)\n"
   ]
  },
  {
   "cell_type": "code",
   "execution_count": null,
   "id": "e36772f3",
   "metadata": {},
   "outputs": [],
   "source": []
  },
  {
   "cell_type": "code",
   "execution_count": null,
   "id": "7dfb4106",
   "metadata": {},
   "outputs": [],
   "source": []
  }
 ],
 "metadata": {
  "kernelspec": {
   "display_name": "Python 3 (ipykernel)",
   "language": "python",
   "name": "python3"
  },
  "language_info": {
   "codemirror_mode": {
    "name": "ipython",
    "version": 3
   },
   "file_extension": ".py",
   "mimetype": "text/x-python",
   "name": "python",
   "nbconvert_exporter": "python",
   "pygments_lexer": "ipython3",
   "version": "3.9.13"
  }
 },
 "nbformat": 4,
 "nbformat_minor": 5
}
